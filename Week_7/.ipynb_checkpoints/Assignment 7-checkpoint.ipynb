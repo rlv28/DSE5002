{
 "cells": [
  {
   "cell_type": "markdown",
   "id": "5b5258fe",
   "metadata": {},
   "source": [
    "# Assignment 7\n",
    "### Rebecca Hawthorne\n",
    "### 8/8/2023"
   ]
  },
  {
   "cell_type": "markdown",
   "id": "c0ebfbde",
   "metadata": {},
   "source": [
    "## Question 1\n",
    "A palindrome is a word, phrase, or sequence that is the same spelled forward as it is backwards.\n",
    "Write a function using a for-loop to determine if a string is a palindrome. Your function should only have one argument. "
   ]
  },
  {
   "cell_type": "code",
   "execution_count": null,
   "id": "75b35247",
   "metadata": {},
   "outputs": [],
   "source": [
    "def palindrome(word):\n",
    "    #function to determine if a word is a palindrome\n",
    "    palindrome_truth = 'is'\n",
    "    for i in[0, len(word)-1]:\n",
    "        if (word[i] != word[len(word)-1-i]):\n",
    "            palindrome_truth = 'is not'\n",
    "    print (\"The word \" +word + ' ' +str(palindrome_truth)+ ' a palindrome.')\n",
    "    return palindrome_truth\n",
    "\n"
   ]
  },
  {
   "cell_type": "markdown",
   "id": "c6916bad",
   "metadata": {},
   "source": [
    "## Question 2\n",
    "Write a function using a while-loop to determine if a string is a palindrome. Your function should only have one argument. "
   ]
  },
  {
   "cell_type": "code",
   "execution_count": null,
   "id": "c0f1525d",
   "metadata": {},
   "outputs": [],
   "source": [
    "def palindrome_while (word):\n",
    "    #function to determine if a word is a palindrome using a while loop\n",
    "    i = 0\n",
    "    while (word[i] == word[len(word)-1-i]) & (i < (len(word)-1)):\n",
    "        i +=1\n",
    "    if i == (len(word)-1):\n",
    "        print (\"The word \" +word + ' is a palindrome.')\n",
    "    else:\n",
    "        print (\"The word \" +word + ' is not a palindrome.')\n",
    "    \n",
    "    return"
   ]
  },
  {
   "cell_type": "markdown",
   "id": "d85c8321",
   "metadata": {},
   "source": [
    "## Question 3\n",
    "Two Sum - Write a function named two_sum()\n",
    "Given a vector of integers nums and an integer target, return indices of the two numbers such that they add\n",
    "up to target. You may assume that each input would have exactly one solution, and you may not use the same element\n",
    "twice. You can return the answer in any order.Use defaultdict and hash maps/tables to complete this problem. \n",
    "\n",
    "Example 1:\n",
    "Input: `nums = [2,7,11,15]`, target = 9 Output: `[0,1]` Explanation: Because `nums[0] + nums[1] == 9`, we\n",
    "return `[0, 1]`. \n",
    "\n",
    "Example 2:\n",
    "Input: `nums = [3,2,4]`, `target = 6 Output: [1,2]` \n",
    "\n",
    "Example 3:\n",
    "Input: `nums = [3,3]`, `target = 6 Output: [0,1]`\n",
    "\n",
    "Constraints:\n",
    "`2 <= nums.length <= 104 –109 <= nums[i] <= 109 –109 <= target <= 109` Only one valid answer exists."
   ]
  },
  {
   "cell_type": "markdown",
   "id": "e0355978",
   "metadata": {},
   "source": [
    "I found two options for this function- I did one with two dictionaries and one numerating over a list. \n"
   ]
  },
  {
   "cell_type": "code",
   "execution_count": 3,
   "id": "3f3067cc",
   "metadata": {},
   "outputs": [],
   "source": [
    "def two_sums(nums, target):\n",
    "    #function that checks whether two values in the vector sum to the target.\n",
    "    #if so, function returns indices of two values.\n",
    "    \n",
    "    #check constraints\n",
    "    if (2 <= len(nums) <= 104) & (all(-109<= x <= 109 for x in nums))  & (-109 <= target <= 109): \n",
    "        from collections import defaultdict\n",
    "        # Function to return a default\n",
    "        # values for keys that is not\n",
    "        # present\n",
    "        def def_value():\n",
    "            return \"Not Present\"\n",
    "          \n",
    "        # Defining the dict\n",
    "        dif_nums = [target-x for x in nums]\n",
    "        dif_dict = defaultdict(def_value, zip(list(range(0,(len(nums)))),(dif_nums)))\n",
    "    \n",
    "        #look for values in nums that match the values in the dictionary of difference values. Also only return if the\n",
    "        #index of the list is less than the key of the dictionary- this makes sure that no number is its own answer, \n",
    "        #as requested and that each answer is only returned once.\n",
    "        for index, difference in dif_dict.items():\n",
    "            for i, val in enumerate(nums) :\n",
    "                if (val == difference) & (i < index):\n",
    "                    print ('['+ str(i) + \", \" + str(index) +']' )\n",
    "\n",
    "    else:\n",
    "        print('The constraints are not satisfied')\n",
    "    \n",
    "    \n",
    "    return"
   ]
  },
  {
   "cell_type": "code",
   "execution_count": 7,
   "id": "53e55a01",
   "metadata": {},
   "outputs": [
    {
     "name": "stdout",
     "output_type": "stream",
     "text": [
      "Test 1:\n",
      "[0, 1]\n",
      "Test 2:\n",
      "[1, 2]\n"
     ]
    }
   ],
   "source": [
    "#testing code\n",
    "print(\"Test 1:\")\n",
    "nums = [2,7,11,15]\n",
    "target = 9\n",
    "\n",
    "two_sums(nums, target)\n",
    "\n",
    "print(\"Test 2:\")\n",
    "nums = [3,2,4]\n",
    "target = 6\n",
    "\n",
    "two_sums(nums, target)"
   ]
  },
  {
   "cell_type": "code",
   "execution_count": 8,
   "id": "d16c7709",
   "metadata": {},
   "outputs": [],
   "source": [
    "def two_sums_take_two(nums, target):\n",
    "    #function that checks whether two values in the vector sum to the target.\n",
    "    #if so, function returns indices of two values.\n",
    "    \n",
    "    #check constraints\n",
    "    if (2 <= len(nums) <= 104) & (all(-109<= x <= 109 for x in nums))  & (-109 <= target <= 109): \n",
    "        from collections import defaultdict\n",
    "        # Function to return a default\n",
    "        # values for keys that is not\n",
    "        # present\n",
    "        def def_value():\n",
    "            return \"Not Present\"\n",
    "          \n",
    "        # Defining the dict for both the nums vector and the difference of nums and target\n",
    "        dif_nums = [target-x for x in nums]\n",
    "        dif_dict = defaultdict(def_value, zip(list(range(0,(len(nums)))),(dif_nums)))\n",
    "        nums_dict = defaultdict(def_value, zip(list(range(0,(len(nums)))),(nums)))\n",
    "        \n",
    "        \n",
    "        #go over both dictionaries and look for common values. Also only return if the\n",
    "        #index of the list is less than the key of the dictionary- this makes sure that no number is its own answer, \n",
    "        #as requested, and that each answer is only returned once.\n",
    "        \n",
    "        for index_dif, difference in dif_dict.items():\n",
    "            for index_num, val in nums_dict.items():\n",
    "                if (val == difference) & (index_num < index_dif):\n",
    "                    print ('['+ str(index_num) + \", \" + str(index_dif) +']' )\n",
    "\n",
    "    else:\n",
    "        print('The constraints are not satisfied')\n",
    "    \n",
    "    \n",
    "    return\n"
   ]
  },
  {
   "cell_type": "code",
   "execution_count": 9,
   "id": "09cc8cb0",
   "metadata": {},
   "outputs": [
    {
     "name": "stdout",
     "output_type": "stream",
     "text": [
      "Test 1:\n",
      "[0, 1]\n",
      "Test 2:\n",
      "[1, 2]\n"
     ]
    }
   ],
   "source": [
    "#testing code\n",
    "print(\"Test 1:\")\n",
    "nums = [2,7,11,15]\n",
    "target = 9\n",
    "\n",
    "two_sums_take_two(nums, target)\n",
    "\n",
    "print(\"Test 2:\")\n",
    "nums = [3,2,4]\n",
    "target = 6\n",
    "\n",
    "two_sums_take_two(nums, target)"
   ]
  },
  {
   "cell_type": "markdown",
   "id": "9ec37669",
   "metadata": {},
   "source": [
    "## Question 4\n",
    "How is a negative index used in Python? Show an example"
   ]
  },
  {
   "cell_type": "markdown",
   "id": "fc4e23b2",
   "metadata": {},
   "source": [
    "A negative index in Python counts backwards from the end of a list, starting with the last element having an index of -1 and descreasing as you move through the elements to the left."
   ]
  },
  {
   "cell_type": "code",
   "execution_count": 2,
   "id": "3c646d4e",
   "metadata": {},
   "outputs": [
    {
     "name": "stdout",
     "output_type": "stream",
     "text": [
      "[1, 2, 3, 4, 5, 6, 7, 8, 9]\n",
      "9\n",
      "5\n"
     ]
    }
   ],
   "source": [
    "#num_list is a list of integers from 1 to 9\n",
    "num_list = list(range(1,10))\n",
    "\n",
    "print(num_list)\n",
    "\n",
    "#then num_list[-1] will be the last element of the list, namely 9\n",
    "\n",
    "print(num_list[-1])\n",
    "\n",
    "#similairly, num_list[-5] would be the fifth from the right or 5\n",
    "\n",
    "print(num_list[-5])\n"
   ]
  },
  {
   "cell_type": "markdown",
   "id": "3128782b",
   "metadata": {},
   "source": [
    "## Question 5\n",
    "Check if two given strings are isomorphic to each other. Two strings str1 and str2 are called isomorphic if there is a one-to-one mapping possible for every character of str1 to every character of str2. And all occurrences of every character in ‘str1’ map to the same character in ‘str2’.\n",
    "\n",
    "`Input:  str1 = \"aab\", str2 = \"xxy\"`\n",
    "\n",
    "`Output: True`\n",
    "\n",
    "`'a' is mapped to 'x' and 'b' is mapped to 'y'.`\n",
    "\n",
    "`Input:  str1 = \"aab\", str2 = \"xyz\"`\n",
    "\n",
    "`Output: False`\n",
    "\n",
    "`One occurrence of 'a' in str1 has 'x' in str2 and other occurrence of 'a' has 'y'.`\n",
    "\n",
    "A Simple Solution is to consider every character of ‘str1’ and check if all occurrences of it map to the same character in ‘str2’. The time complexity of this solution is O(n*n).\n",
    "\n",
    "An Efficient Solution can solve this problem in O(n) time. The idea is to create an array to store mappings of processed characters. \n"
   ]
  },
  {
   "cell_type": "code",
   "execution_count": 10,
   "id": "53f3a149",
   "metadata": {},
   "outputs": [],
   "source": [
    "def isomorphic(str_1, str_2):\n",
    "    \n",
    "    #inner function that checks if there is a function from one str to the other str\n",
    "    def is_function(str_1, str_2):\n",
    "        i=0\n",
    "        is_a_function = True\n",
    "        pair_list = list(zip(str_1, str_2))\n",
    "        pair_set=set(pair_list)\n",
    "        pair_list=list(pair_set)\n",
    "        pair_list.sort()\n",
    "        while i<(len(pair_list)-1):\n",
    "            if (pair_list[i][0]) !=  (pair_list[i+1][0]):\n",
    "                i +=1\n",
    "            else:\n",
    "                is_a_function = False\n",
    "                break\n",
    "        \n",
    "        return is_a_function\n",
    "    \n",
    "    \n",
    "    \n",
    "    #check length of strings to make sure they are equal\n",
    "    if len(str_1) != len(str_2):\n",
    "        return \"The strings are not the same length and not isomorphic.\"\n",
    "    \n",
    "    \n",
    "    \n",
    "    #check if str_1 to str_2 is a function and vice versa\n",
    "    #if a function and its inverse are both functions, then the function is\n",
    "    #one-to-one\n",
    "    \n",
    "    else:\n",
    "        if is_function(str_1, str_2) & is_function(str_2, str_1):\n",
    "           print(str_1 +\" and \" + str_2 + \" are isomorphic\")\n",
    "        else:\n",
    "            print (str_1 +\" and \" + str_2 + \" are not isomorphic\") \n",
    "   \n",
    "    return \n",
    "\n"
   ]
  },
  {
   "cell_type": "code",
   "execution_count": 15,
   "id": "177e099c",
   "metadata": {},
   "outputs": [
    {
     "name": "stdout",
     "output_type": "stream",
     "text": [
      "aab and xxy are isomorphic\n",
      "None\n",
      "abc and xyx are not isomorphic\n",
      "None\n",
      "aab and xyz are not isomorphic\n",
      "None\n",
      "The strings are not the same length and not isomorphic.\n"
     ]
    }
   ],
   "source": [
    "#testing code-these are isomorphic\n",
    "str_1 = \"aab\"\n",
    "str_2 = \"xxy\"\n",
    "\n",
    "print(isomorphic(str_1, str_2))\n",
    "\n",
    "#testing code-these are not isomorphic\n",
    "str_1 = \"abc\"\n",
    "str_2 = \"xyx\"\n",
    "\n",
    "print(isomorphic(str_1, str_2))\n",
    "\n",
    "#testing code-these are not isomorphic\n",
    "str_1 = \"aab\"\n",
    "str_2 = \"xyz\"\n",
    "\n",
    "print(isomorphic(str_1, str_2))\n",
    "\n",
    "#testing code-these are not isomorphic\n",
    "str_1 = \"aabc\"\n",
    "str_2 = \"xyz\"\n",
    "\n",
    "print(isomorphic(str_1, str_2))"
   ]
  }
 ],
 "metadata": {
  "kernelspec": {
   "display_name": "Python 3 (ipykernel)",
   "language": "python",
   "name": "python3"
  },
  "language_info": {
   "codemirror_mode": {
    "name": "ipython",
    "version": 3
   },
   "file_extension": ".py",
   "mimetype": "text/x-python",
   "name": "python",
   "nbconvert_exporter": "python",
   "pygments_lexer": "ipython3",
   "version": "3.11.3"
  }
 },
 "nbformat": 4,
 "nbformat_minor": 5
}
