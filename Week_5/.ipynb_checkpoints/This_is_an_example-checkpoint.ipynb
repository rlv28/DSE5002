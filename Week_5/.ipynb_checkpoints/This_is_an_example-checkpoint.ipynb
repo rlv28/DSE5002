{
 "cells": [
  {
   "cell_type": "markdown",
   "id": "316f6e79",
   "metadata": {},
   "source": [
    "# Here is a title"
   ]
  },
  {
   "cell_type": "markdown",
   "id": "e7e52b59",
   "metadata": {},
   "source": [
    "## smaller title"
   ]
  },
  {
   "cell_type": "code",
   "execution_count": null,
   "id": "1a40c704",
   "metadata": {},
   "outputs": [],
   "source": [
    "conda install statsmodels"
   ]
  },
  {
   "cell_type": "code",
   "execution_count": null,
   "id": "4b0b4dc3",
   "metadata": {},
   "outputs": [],
   "source": [
    "from statsmodels.datasets.fertility.data import load_pandas"
   ]
  },
  {
   "cell_type": "code",
   "execution_count": null,
   "id": "7e0078f3",
   "metadata": {},
   "outputs": [],
   "source": [
    "df = load_pandas().data\n"
   ]
  },
  {
   "cell_type": "code",
   "execution_count": null,
   "id": "8ef5576b",
   "metadata": {},
   "outputs": [],
   "source": [
    "df.columns\n"
   ]
  },
  {
   "cell_type": "code",
   "execution_count": null,
   "id": "7fbb7979",
   "metadata": {},
   "outputs": [],
   "source": [
    "import numpy as np\n",
    "np.round(np.mean(df['2008']),2)"
   ]
  },
  {
   "cell_type": "code",
   "execution_count": null,
   "id": "da2a85a2",
   "metadata": {},
   "outputs": [],
   "source": []
  },
  {
   "cell_type": "code",
   "execution_count": null,
   "id": "90a3f629",
   "metadata": {},
   "outputs": [],
   "source": []
  }
 ],
 "metadata": {
  "kernelspec": {
   "display_name": "Python 3 (ipykernel)",
   "language": "python",
   "name": "python3"
  },
  "language_info": {
   "codemirror_mode": {
    "name": "ipython",
    "version": 3
   },
   "file_extension": ".py",
   "mimetype": "text/x-python",
   "name": "python",
   "nbconvert_exporter": "python",
   "pygments_lexer": "ipython3",
   "version": "3.7.1"
  }
 },
 "nbformat": 4,
 "nbformat_minor": 5
}
