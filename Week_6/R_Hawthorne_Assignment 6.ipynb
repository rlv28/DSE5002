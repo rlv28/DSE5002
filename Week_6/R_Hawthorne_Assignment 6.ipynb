{
 "cells": [
  {
   "cell_type": "markdown",
   "id": "868f20a6",
   "metadata": {},
   "source": [
    "# Assignment 6\n",
    "### Rebecca Hawthorne\n",
    "### 8/11/2023"
   ]
  },
  {
   "cell_type": "markdown",
   "id": "6b3cc38d",
   "metadata": {},
   "source": [
    "## Question 1\n",
    "1) import the random library. \n",
    "\n",
    "2) Use `random.seed(10)` to initialize a pseudorandom number generator. \n",
    "\n",
    "3) Create a list of 50 random integers from 0 to 15. Call this list `int_list`.\n",
    "\n",
    "4) Print the 10th and 30th elements of the list. \n",
    "\n",
    "You will need to use list comprehension to do this. The syntax for list comprehension is: <new_list> = `[<expression> for <item> in <iterable>]`. For this question your expression will be a randint generator from the random library and your iterable will be `range()`. Researh the documentation on how to use both functions. "
   ]
  },
  {
   "cell_type": "code",
   "execution_count": 2,
   "id": "7abe6a13",
   "metadata": {},
   "outputs": [
    {
     "name": "stdout",
     "output_type": "stream",
     "text": [
      "The entire int_list is: \n",
      "\n",
      "[1, 13, 15, 0, 6, 14, 15, 8, 5, 1, 15, 10, 2, 7, 11, 1, 13, 4, 11, 12, 13, 9, 8, 14, 5, 9, 11, 4, 14, 7, 14, 12, 1, 0, 7, 4, 6, 9, 11, 7, 10, 14, 13, 15, 2, 10, 5, 7, 13, 7]\n",
      "The 10th element is: 1\n",
      "The 30th element is: 7\n"
     ]
    }
   ],
   "source": [
    "import random\n",
    "\n",
    "random.seed(10)\n",
    "\n",
    "int_list = [random.randint(0, 15) for n in range(50)]\n",
    "\n",
    "print(\"The entire int_list is: \\n\")\n",
    "print(int_list)\n",
    "\n",
    "print(\"The 10th element is: \" +str(int_list[9]))\n",
    "\n",
    "print(\"The 30th element is: \" +str(int_list[29]))"
   ]
  },
  {
   "cell_type": "markdown",
   "id": "48d4d289",
   "metadata": {},
   "source": [
    "## Question 2\n",
    "1) import the string library.\n",
    "\n",
    "2) Create the string `az_upper` using `string.ascii_uppercase`. This is a single string of uppercase letters\n",
    "\n",
    "3) Create a list of each individual letter from the string. To do this you will need to iterate over the string and append each letter to the an empty list. Call this list `az_list`. \n",
    "\n",
    "4) Print the list.\n",
    "\n",
    "You will need to use a for-loop for this. The syntax for this for-loop should be: \n",
    "\n",
    "`for i in string>:\n",
    "   <list operation>\n",
    "`"
   ]
  },
  {
   "cell_type": "code",
   "execution_count": 4,
   "id": "e259b56f",
   "metadata": {},
   "outputs": [
    {
     "name": "stdout",
     "output_type": "stream",
     "text": [
      "['A', 'B', 'C', 'D', 'E', 'F', 'G', 'H', 'I', 'J', 'K', 'L', 'M', 'N', 'O', 'P', 'Q', 'R', 'S', 'T', 'U', 'V', 'W', 'X', 'Y', 'Z']\n"
     ]
    }
   ],
   "source": [
    "import string\n",
    "\n",
    "az_upper = string.ascii_uppercase\n",
    "\n",
    "az_list = []\n",
    "\n",
    "for i in az_upper:    \n",
    "    \n",
    "    az_list.append(i)\n",
    "\n",
    "\n",
    "print(az_list)\n"
   ]
  },
  {
   "cell_type": "markdown",
   "id": "5b775542",
   "metadata": {},
   "source": [
    "## Question 3\n",
    "1) Create a set from 1 to 5. Call this `set_1`.\n",
    "\n",
    "2) Create a set from int_list. Call this `set_2`.\n",
    "\n",
    "3) Create a set by finding the `symmetric_difference()` of `set_1` and `set_2`. Call this `set_3`.\n",
    "\n",
    "4) What is the length of all three sets?\n",
    "\n"
   ]
  },
  {
   "cell_type": "code",
   "execution_count": 5,
   "id": "4300df51",
   "metadata": {},
   "outputs": [
    {
     "name": "stdout",
     "output_type": "stream",
     "text": [
      "set 1:  {1, 2, 3, 4, 5}\n",
      "set 2:  {0, 1, 2, 4, 5, 6, 7, 8, 9, 10, 11, 12, 13, 14, 15}\n",
      "set 3:  {0, 3, 6, 7, 8, 9, 10, 11, 12, 13, 14, 15}\n",
      "length of set_1 is  5\n",
      "length of set_2 is  15\n",
      "length of set_3 is  12\n"
     ]
    }
   ],
   "source": [
    "set_1 = set(range(1,6))\n",
    "print('set 1: ', set_1)\n",
    "\n",
    "set_2 = set(int_list)\n",
    "print('set 2: ', set_2)\n",
    "\n",
    "set_3 = set_1.symmetric_difference(set_2)\n",
    "print('set 3: ', set_3)\n",
    "\n",
    "print('length of set_1 is ', len(set_1))\n",
    "\n",
    "print('length of set_2 is ', len(set_2))\n",
    "\n",
    "print('length of set_3 is ', len(set_3))\n"
   ]
  },
  {
   "cell_type": "markdown",
   "id": "7cd5e698",
   "metadata": {},
   "source": [
    "## Question 4\n",
    "1) Import default dict and set the default value to 'Not Present'. Call this dict_1.\n",
    "\n",
    "2) Add `int_list`, `set_2`, and `set_3` to `dict_1` using the object names as the key names. \n",
    "\n",
    "3) Create a new dictionary, `dict_2`, using curly bracket notation with `set_1` and `az_list` as the keys and values. \n",
    "\n",
    "4) Invoke the default value of `dict_1` by trying to access the key `az_list`. Create a new set named `set_4` from the value of `dict_1['az_list']`. What is the lenght of the difference between `dict_2['az_list']` and `set_4'?\n",
    "\n",
    "5) Update `dict_2` with `dict_1`. Print the value of the key `az_list` from `dict_2`. What happened?\n",
    "\n",
    "\n",
    "\n",
    "\n"
   ]
  },
  {
   "cell_type": "code",
   "execution_count": 11,
   "id": "6c85d4be",
   "metadata": {},
   "outputs": [
    {
     "name": "stdout",
     "output_type": "stream",
     "text": [
      "dict_1: defaultdict(<function def_value at 0x000001D4F8A1FAF0>, {'int_list': [1, 13, 15, 0, 6, 14, 15, 8, 5, 1, 15, 10, 2, 7, 11, 1, 13, 4, 11, 12, 13, 9, 8, 14, 5, 9, 11, 4, 14, 7, 14, 12, 1, 0, 7, 4, 6, 9, 11, 7, 10, 14, 13, 15, 2, 10, 5, 7, 13, 7], 'set_2': {0, 1, 2, 4, 5, 6, 7, 8, 9, 10, 11, 12, 13, 14, 15}, 'set_3': {0, 3, 6, 7, 8, 9, 10, 11, 12, 13, 14, 15}}) \n",
      "\n",
      "dict_2:  {'set_1': {1, 2, 3, 4, 5}, 'az_list': ['A', 'B', 'C', 'D', 'E', 'F', 'G', 'H', 'I', 'J', 'K', 'L', 'M', 'N', 'O', 'P', 'Q', 'R', 'S', 'T', 'U', 'V', 'W', 'X', 'Y', 'Z']} \n",
      "\n",
      "dict_1[az_list]:  Not Present \n",
      "\n",
      "set_4 is: {'e', 'n', 'o', 'r', 'N', 't', ' ', 's', 'P'} \n",
      "\n",
      "The length of the difference between  dict_2[az_list] and set_4 is: 24 \n",
      "\n",
      "New dict_2 {'set_1': {1, 2, 3, 4, 5}, 'az_list': 'Not Present', 'int_list': [1, 13, 15, 0, 6, 14, 15, 8, 5, 1, 15, 10, 2, 7, 11, 1, 13, 4, 11, 12, 13, 9, 8, 14, 5, 9, 11, 4, 14, 7, 14, 12, 1, 0, 7, 4, 6, 9, 11, 7, 10, 14, 13, 15, 2, 10, 5, 7, 13, 7], 'set_2': {0, 1, 2, 4, 5, 6, 7, 8, 9, 10, 11, 12, 13, 14, 15}, 'set_3': {0, 3, 6, 7, 8, 9, 10, 11, 12, 13, 14, 15}} \n",
      "\n"
     ]
    }
   ],
   "source": [
    "from collections import defaultdict\n",
    "# Function to return a default\n",
    "# values for keys that is not\n",
    "# present\n",
    "def def_value():\n",
    "    return \"Not Present\"\n",
    "      \n",
    "# Defining dict_1\n",
    "dict_1 = defaultdict(def_value)\n",
    "dict_1['int_list'] = int_list\n",
    "dict_1['set_2'] = set_2\n",
    "dict_1['set_3'] = set_3\n",
    "\n",
    "print('dict_1:',dict_1, '\\n')\n",
    "\n",
    "#define dict_2\n",
    "dict_2={'set_1':set_1, 'az_list':az_list}\n",
    "\n",
    "print('dict_2: ', dict_2, '\\n')\n",
    "\n",
    "#call az_list from dict_1\n",
    "print('dict_1[az_list]: ', dict_1['az_list'], '\\n')\n",
    "\n",
    "#create set_4\n",
    "set_4 = set(dict_1['az_list'])\n",
    "print('set_4 is:', set_4, '\\n')\n",
    "\n",
    "#find the length of the difference, had to conver dict_2['az_list] to a set to \n",
    "#use differnce function\n",
    "\n",
    "print('The length of the difference between  dict_2[az_list] and set_4 is:', \n",
    "      len(set(dict_2['az_list']).difference(set_4)), '\\n')\n",
    "\n",
    "#update dict_2 with dict_1\n",
    "\n",
    "dict_2.update(dict_1)\n",
    "print('New dict_2',dict_2, '\\n')\n"
   ]
  },
  {
   "cell_type": "markdown",
   "id": "7b46934a",
   "metadata": {},
   "source": [
    "In dict_2 the value for the key az_list was replaced with the value of az_list in dict_1, namely 'Not Present'"
   ]
  }
 ],
 "metadata": {
  "kernelspec": {
   "display_name": "Python 3 (ipykernel)",
   "language": "python",
   "name": "python3"
  },
  "language_info": {
   "codemirror_mode": {
    "name": "ipython",
    "version": 3
   },
   "file_extension": ".py",
   "mimetype": "text/x-python",
   "name": "python",
   "nbconvert_exporter": "python",
   "pygments_lexer": "ipython3",
   "version": "3.9.17"
  }
 },
 "nbformat": 4,
 "nbformat_minor": 5
}
